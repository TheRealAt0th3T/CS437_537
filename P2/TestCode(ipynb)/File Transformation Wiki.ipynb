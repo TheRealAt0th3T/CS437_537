{
 "cells": [
  {
   "cell_type": "code",
   "execution_count": 3,
   "id": "9fffdfe0",
   "metadata": {},
   "outputs": [],
   "source": [
    "import pandas as pd\n",
    "import customStopWordList\n",
    "import nltk\n",
    "# nltk.download('punkt')\n",
    "from nltk.tokenize import word_tokenize\n",
    "from nltk.corpus import stopwords\n",
    "from nltk.stem.porter import PorterStemmer\n",
    "import re, string\n",
    "import json"
   ]
  },
  {
   "cell_type": "markdown",
   "id": "3d5b1452",
   "metadata": {},
   "source": [
    "Read"
   ]
  },
  {
   "cell_type": "code",
   "execution_count": 3,
   "id": "01335b36",
   "metadata": {},
   "outputs": [],
   "source": [
    "wiki = pd.read_csv(\"project_1_Wiki_sample.csv\", sep=',')"
   ]
  },
  {
   "cell_type": "markdown",
   "id": "0c7f78e8",
   "metadata": {},
   "source": [
    "Methods"
   ]
  },
  {
   "cell_type": "code",
   "execution_count": null,
   "id": "0f2adfde",
   "metadata": {},
   "outputs": [],
   "source": [
    "def lower_case_str(string_to_be_lower_cased):\n",
    "    lowercase_str_result = str(string_to_be_lower_cased).lower()\n",
    "    return lowercase_str_result\n",
    "\n",
    "def remove_punc(string_has_punc):\n",
    "    no_punc_result = re.sub('[-=+,#/\\?:^$.@*\\\"※~&%ㆍ!』\\\\‘|\\(\\)\\[\\]\\<\\>`\\'…》]', ' ', str(string_has_punc))\n",
    "    return no_punc_result\n",
    "\n",
    "def filter_tokens(str_to_be_filtered):\n",
    "    stopword_list = customStopWordList.get_custom_sw_list()\n",
    "    filtered_tokens = \"\"\n",
    "    for w in str(str_to_be_filtered).split(\" \"):\n",
    "        if w not in stopword_list:\n",
    "            filtered_tokens += w + \" \"\n",
    "    return filtered_tokens\n",
    "porter = PorterStemmer()\n",
    "def stem_tokens(str_to_be_stemmed):\n",
    "    stemmed_str = \"\"\n",
    "    for w in str(str_to_be_stemmed).split(\" \"):\n",
    "        stemmed_str += porter.stem(w) + \" \"\n",
    "    return stemmed_str"
   ]
  },
  {
   "cell_type": "markdown",
   "id": "ffb1387e",
   "metadata": {},
   "source": [
    "Process"
   ]
  },
  {
   "cell_type": "code",
   "execution_count": null,
   "id": "ca74d25e",
   "metadata": {},
   "outputs": [],
   "source": [
    "wiki['content'] = wiki['content'].apply(lower_case_str)\n",
    "wiki['content'] = wiki['content'].apply(remove_punc)\n",
    "wiki['content'] = wiki['content'].apply(filter_tokens)\n",
    "wiki['content'] = wiki['content'].apply(stem_tokens)\n",
    "wiki"
   ]
  },
  {
   "cell_type": "markdown",
   "id": "7e421aa7",
   "metadata": {},
   "source": [
    "Loop"
   ]
  },
  {
   "cell_type": "code",
   "execution_count": 2,
   "id": "765c4227",
   "metadata": {},
   "outputs": [
    {
     "data": {
      "text/html": [
       "<div>\n",
       "<style scoped>\n",
       "    .dataframe tbody tr th:only-of-type {\n",
       "        vertical-align: middle;\n",
       "    }\n",
       "\n",
       "    .dataframe tbody tr th {\n",
       "        vertical-align: top;\n",
       "    }\n",
       "\n",
       "    .dataframe thead th {\n",
       "        text-align: right;\n",
       "    }\n",
       "</style>\n",
       "<table border=\"1\" class=\"dataframe\">\n",
       "  <thead>\n",
       "    <tr style=\"text-align: right;\">\n",
       "      <th></th>\n",
       "      <th>content</th>\n",
       "      <th>id</th>\n",
       "    </tr>\n",
       "  </thead>\n",
       "  <tbody>\n",
       "    <tr>\n",
       "      <th>0</th>\n",
       "      <td>morocco saudi arabia relations    moroccan sau...</td>\n",
       "      <td>1</td>\n",
       "    </tr>\n",
       "    <tr>\n",
       "      <th>1</th>\n",
       "      <td>anthoni unit post office    th anthoni unit po...</td>\n",
       "      <td>2</td>\n",
       "    </tr>\n",
       "    <tr>\n",
       "      <th>2</th>\n",
       "      <td>dumraon  vidhan sabha constitu     dumraon vid...</td>\n",
       "      <td>3</td>\n",
       "    </tr>\n",
       "    <tr>\n",
       "      <th>3</th>\n",
       "      <td>chaker khazaal    chak khazaal  born 28 septem...</td>\n",
       "      <td>4</td>\n",
       "    </tr>\n",
       "  </tbody>\n",
       "</table>\n",
       "</div>"
      ],
      "text/plain": [
       "                                             content  id\n",
       "0  morocco saudi arabia relations    moroccan sau...   1\n",
       "1  anthoni unit post office    th anthoni unit po...   2\n",
       "2  dumraon  vidhan sabha constitu     dumraon vid...   3\n",
       "3  chaker khazaal    chak khazaal  born 28 septem...   4"
      ]
     },
     "execution_count": 2,
     "metadata": {},
     "output_type": "execute_result"
    }
   ],
   "source": [
    "import pandas as pd\n",
    "import re, string\n",
    "import time\n",
    "import json\n",
    "\n",
    "# processed_wiki = pd.read_csv(\"wiki.csv\", sep=',')[['content','id']]\n",
    "processed_wiki = pd.read_csv(\"testwiki.csv\", sep=',')[['content','id']]\n",
    "\n",
    "processed_wiki"
   ]
  },
  {
   "cell_type": "code",
   "execution_count": 3,
   "id": "69d5ad40",
   "metadata": {},
   "outputs": [
    {
     "name": "stdout",
     "output_type": "stream",
     "text": [
      "0\n",
      "0.0047380924224853516\n"
     ]
    }
   ],
   "source": [
    "start = time.time()\n",
    "\n",
    "dict = {}\n",
    "\n",
    "def invertedIndex(id, query):\n",
    "    for word in query.split(\" \"):\n",
    "        if word not in dict.keys(): # if word is not in dict\n",
    "            dict[word] = {str(id):1}\n",
    "        else: # if word is already in dict\n",
    "            if id not in dict[word].keys(): # but id does not exist in inner dict\n",
    "                dict[word][str(id)] = 1\n",
    "            else: # id does exist\n",
    "                dict[word][str(id)] += 1\n",
    "\n",
    "for i in range(len(processed_wiki)):\n",
    "    invertedIndex(str(processed_wiki['id'].iloc[i]), str(processed_wiki['content'].iloc[i]))\n",
    "    if i % 100000 == 0:\n",
    "        print(i)\n",
    "end = time.time()\n",
    "print(end - start)"
   ]
  },
  {
   "cell_type": "code",
   "execution_count": 4,
   "id": "98d6d10f",
   "metadata": {},
   "outputs": [
    {
     "ename": "TypeError",
     "evalue": "Object of type type is not JSON serializable",
     "output_type": "error",
     "traceback": [
      "\u001b[0;31m---------------------------------------------------------------------------\u001b[0m",
      "\u001b[0;31mTypeError\u001b[0m                                 Traceback (most recent call last)",
      "\u001b[0;32m/var/folders/kb/7q1qk5ds74sdxqbgl26pm2vw0000gp/T/ipykernel_50950/1752527968.py\u001b[0m in \u001b[0;36m<module>\u001b[0;34m\u001b[0m\n\u001b[1;32m      1\u001b[0m \u001b[0;32mwith\u001b[0m \u001b[0mopen\u001b[0m\u001b[0;34m(\u001b[0m\u001b[0;34m\"Computed/wiki.json\"\u001b[0m\u001b[0;34m,\u001b[0m \u001b[0;34m\"w\"\u001b[0m\u001b[0;34m)\u001b[0m \u001b[0;32mas\u001b[0m \u001b[0mf\u001b[0m\u001b[0;34m:\u001b[0m\u001b[0;34m\u001b[0m\u001b[0;34m\u001b[0m\u001b[0m\n\u001b[0;32m----> 2\u001b[0;31m     \u001b[0mjson\u001b[0m\u001b[0;34m.\u001b[0m\u001b[0mdump\u001b[0m\u001b[0;34m(\u001b[0m\u001b[0mdict\u001b[0m\u001b[0;34m,\u001b[0m \u001b[0mf\u001b[0m\u001b[0;34m)\u001b[0m\u001b[0;34m\u001b[0m\u001b[0;34m\u001b[0m\u001b[0m\n\u001b[0m",
      "\u001b[0;32m~/anaconda3/lib/python3.8/json/__init__.py\u001b[0m in \u001b[0;36mdump\u001b[0;34m(obj, fp, skipkeys, ensure_ascii, check_circular, allow_nan, cls, indent, separators, default, sort_keys, **kw)\u001b[0m\n\u001b[1;32m    177\u001b[0m     \u001b[0;31m# could accelerate with writelines in some versions of Python, at\u001b[0m\u001b[0;34m\u001b[0m\u001b[0;34m\u001b[0m\u001b[0;34m\u001b[0m\u001b[0m\n\u001b[1;32m    178\u001b[0m     \u001b[0;31m# a debuggability cost\u001b[0m\u001b[0;34m\u001b[0m\u001b[0;34m\u001b[0m\u001b[0;34m\u001b[0m\u001b[0m\n\u001b[0;32m--> 179\u001b[0;31m     \u001b[0;32mfor\u001b[0m \u001b[0mchunk\u001b[0m \u001b[0;32min\u001b[0m \u001b[0miterable\u001b[0m\u001b[0;34m:\u001b[0m\u001b[0;34m\u001b[0m\u001b[0;34m\u001b[0m\u001b[0m\n\u001b[0m\u001b[1;32m    180\u001b[0m         \u001b[0mfp\u001b[0m\u001b[0;34m.\u001b[0m\u001b[0mwrite\u001b[0m\u001b[0;34m(\u001b[0m\u001b[0mchunk\u001b[0m\u001b[0;34m)\u001b[0m\u001b[0;34m\u001b[0m\u001b[0;34m\u001b[0m\u001b[0m\n\u001b[1;32m    181\u001b[0m \u001b[0;34m\u001b[0m\u001b[0m\n",
      "\u001b[0;32m~/anaconda3/lib/python3.8/json/encoder.py\u001b[0m in \u001b[0;36m_iterencode\u001b[0;34m(o, _current_indent_level)\u001b[0m\n\u001b[1;32m    436\u001b[0m                     \u001b[0;32mraise\u001b[0m \u001b[0mValueError\u001b[0m\u001b[0;34m(\u001b[0m\u001b[0;34m\"Circular reference detected\"\u001b[0m\u001b[0;34m)\u001b[0m\u001b[0;34m\u001b[0m\u001b[0;34m\u001b[0m\u001b[0m\n\u001b[1;32m    437\u001b[0m                 \u001b[0mmarkers\u001b[0m\u001b[0;34m[\u001b[0m\u001b[0mmarkerid\u001b[0m\u001b[0;34m]\u001b[0m \u001b[0;34m=\u001b[0m \u001b[0mo\u001b[0m\u001b[0;34m\u001b[0m\u001b[0;34m\u001b[0m\u001b[0m\n\u001b[0;32m--> 438\u001b[0;31m             \u001b[0mo\u001b[0m \u001b[0;34m=\u001b[0m \u001b[0m_default\u001b[0m\u001b[0;34m(\u001b[0m\u001b[0mo\u001b[0m\u001b[0;34m)\u001b[0m\u001b[0;34m\u001b[0m\u001b[0;34m\u001b[0m\u001b[0m\n\u001b[0m\u001b[1;32m    439\u001b[0m             \u001b[0;32myield\u001b[0m \u001b[0;32mfrom\u001b[0m \u001b[0m_iterencode\u001b[0m\u001b[0;34m(\u001b[0m\u001b[0mo\u001b[0m\u001b[0;34m,\u001b[0m \u001b[0m_current_indent_level\u001b[0m\u001b[0;34m)\u001b[0m\u001b[0;34m\u001b[0m\u001b[0;34m\u001b[0m\u001b[0m\n\u001b[1;32m    440\u001b[0m             \u001b[0;32mif\u001b[0m \u001b[0mmarkers\u001b[0m \u001b[0;32mis\u001b[0m \u001b[0;32mnot\u001b[0m \u001b[0;32mNone\u001b[0m\u001b[0;34m:\u001b[0m\u001b[0;34m\u001b[0m\u001b[0;34m\u001b[0m\u001b[0m\n",
      "\u001b[0;32m~/anaconda3/lib/python3.8/json/encoder.py\u001b[0m in \u001b[0;36mdefault\u001b[0;34m(self, o)\u001b[0m\n\u001b[1;32m    177\u001b[0m \u001b[0;34m\u001b[0m\u001b[0m\n\u001b[1;32m    178\u001b[0m         \"\"\"\n\u001b[0;32m--> 179\u001b[0;31m         raise TypeError(f'Object of type {o.__class__.__name__} '\n\u001b[0m\u001b[1;32m    180\u001b[0m                         f'is not JSON serializable')\n\u001b[1;32m    181\u001b[0m \u001b[0;34m\u001b[0m\u001b[0m\n",
      "\u001b[0;31mTypeError\u001b[0m: Object of type type is not JSON serializable"
     ]
    }
   ],
   "source": [
    "with open(\"Computed/wiki.json\", \"w\") as f:\n",
    "    json.dump(dict, f)"
   ]
  },
  {
   "cell_type": "code",
   "execution_count": 7,
   "id": "7cf6cb32",
   "metadata": {},
   "outputs": [
    {
     "name": "stdout",
     "output_type": "stream",
     "text": [
      "{'3': 2, '7': 2, '755': 2, '756': 2, '1247': 2, '1248': 2, '1249': 2, '1251': 2, '10319': 1, '10321': 1, '42810': 2, '42954': 1, '42957': 2, '47007': 1, '62768': 1, '70427': 3, '84909': 2, '92351': 2, '94539': 1, '95311': 1, '100537': 2, '106898': 1, '108612': 1, '136233': 2, '142421': 1, '144195': 4, '180603': 1, '205143': 1, '219339': 1, '221856': 2, '221858': 4, '223983': 1, '225163': 1, '230186': 1, '231145': 1, '233568': 1, '247927': 1, '258133': 1, '258175': 2, '261325': 1, '261343': 1, '262877': 1, '262897': 1, '264867': 1, '269926': 1, '277450': 1, '286458': 1, '307364': 1, '309166': 6, '313957': 1, '317733': 1, '322505': 1, '336319': 1, '338047': 1, '343880': 1, '351837': 1, '357414': 1, '365709': 2, '369356': 1, '373821': 1, '373822': 1, '373827': 1, '373842': 1, '373886': 1, '377820': 1, '378688': 1, '379445': 1, '380917': 1, '380927': 1, '380929': 1, '381072': 1, '381079': 1, '381156': 1, '385820': 1, '387320': 1, '387441': 1, '404782': 1, '404813': 2, '404852': 1, '409452': 1, '412572': 1, '452505': 1, '453140': 1, '457905': 1, '465286': 1, '465299': 1, '465535': 1, '477157': 1, '477315': 1, '480422': 1, '481584': 1, '481596': 1, '481613': 1, '481806': 1, '481818': 1, '481819': 1, '481820': 2, '482224': 3, '496599': 1, '498456': 1, '498469': 2, '498480': 1, '499145': 1, '499412': 1, '500157': 1, '500212': 1, '500219': 1, '500229': 1, '509027': 1, '514476': 1, '523325': 1, '524612': 2, '533823': 1, '555212': 1, '563087': 1, '563279': 1, '563284': 1, '563289': 1, '573548': 1, '592186': 1, '600743': 1, '634961': 1, '637219': 1, '658313': 1, '662252': 1, '671319': 1, '675441': 1, '713154': 1, '717245': 1, '717272': 1, '724208': 1, '724390': 1, '724508': 1, '724671': 1, '724875': 1, '726786': 1, '726818': 1, '726827': 1, '726921': 1, '729010': 1, '730008': 8, '732546': 1, '733790': 1, '733839': 1, '733976': 1, '734095': 1, '734170': 1, '734175': 1, '734241': 1, '734376': 1, '734425': 1, '734465': 1, '735383': 1, '735561': 1, '735854': 1, '735980': 1, '736041': 1, '736221': 1, '736316': 1, '736347': 1, '736564': 1, '736635': 2, '736699': 1, '736982': 1, '737088': 1, '737368': 1, '737451': 1, '737484': 1, '737513': 1, '741006': 1, '787062': 1, '790386': 1, '801271': 1, '805414': 2, '815731': 1, '828319': 1, '833168': 1, '850624': 1, '851640': 1, '851760': 1, '851780': 1, '851789': 1, '851794': 1, '851799': 1, '851804': 1, '851830': 1, '851957': 1, '851963': 1, '851966': 1, '851969': 1, '851978': 1, '851980': 1, '851984': 1, '851987': 1, '851996': 1, '851998': 2, '852003': 1, '852010': 1, '852018': 1, '852022': 1, '855502': 1, '855511': 1, '855527': 2, '855869': 1, '856079': 1, '856095': 1, '861733': 1, '862470': 1, '862877': 1, '862899': 3, '865889': 1, '865897': 1, '867227': 6, '870951': 1, '871763': 1, '883054': 1, '886542': 1, '891941': 1, '907033': 1, '913213': 1, '921252': 1, '921308': 2, '932554': 1, '945163': 1, '947667': 1, '947846': 1, '960317': 2, '960359': 1, '984555': 2, '1004057': 1, '1009433': 1, '1021797': 1, '1022888': 3, '1024434': 1, '1029007': 4, '1039322': 4, '1045479': 1, '1053984': 1, '1058979': 1, '1085376': 1, '1088720': 2, '1101728': 1, '1123836': 1, '1125210': 1, '1125948': 1, '1126059': 1, '1146303': 1, '1151017': 2, '1155915': 1, '1181131': 1, '1187298': 1, '1189983': 1, '1189996': 3, '1190011': 2, '1237827': 2, '1253865': 1, '1259899': 1, '1260932': 3, '1279935': 1}\n"
     ]
    }
   ],
   "source": [
    "import pandas as pd\n",
    "import re, string\n",
    "import time\n",
    "import json\n",
    "\n",
    "\n",
    "with open('Computed/wiki_dict.json') as json_file:\n",
    "    wiki = json.load(json_file)\n",
    "\n",
    "print(wiki['morocco'])\n",
    "\n"
   ]
  },
  {
   "cell_type": "code",
   "execution_count": null,
   "id": "4d51a0c9",
   "metadata": {},
   "outputs": [],
   "source": []
  }
 ],
 "metadata": {
  "kernelspec": {
   "display_name": "Python 3 (ipykernel)",
   "language": "python",
   "name": "python3"
  },
  "language_info": {
   "codemirror_mode": {
    "name": "ipython",
    "version": 3
   },
   "file_extension": ".py",
   "mimetype": "text/x-python",
   "name": "python",
   "nbconvert_exporter": "python",
   "pygments_lexer": "ipython3",
   "version": "3.8.11"
  }
 },
 "nbformat": 4,
 "nbformat_minor": 5
}
