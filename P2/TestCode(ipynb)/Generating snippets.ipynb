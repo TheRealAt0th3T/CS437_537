{
 "cells": [
  {
   "cell_type": "code",
   "execution_count": 32,
   "id": "ab4f6a88",
   "metadata": {},
   "outputs": [
    {
     "name": "stdout",
     "output_type": "stream",
     "text": [
      "Collecting nltk\n",
      "  Using cached nltk-3.6.5-py3-none-any.whl (1.5 MB)\n",
      "Requirement already satisfied: tqdm in /Users/amaratariq/miniconda3/lib/python3.9/site-packages (from nltk) (4.61.2)\n",
      "Collecting click\n",
      "  Using cached click-8.0.3-py3-none-any.whl (97 kB)\n",
      "Collecting joblib\n",
      "  Using cached joblib-1.1.0-py2.py3-none-any.whl (306 kB)\n",
      "Collecting regex>=2021.8.3\n",
      "  Downloading regex-2021.10.8-cp39-cp39-macosx_10_9_x86_64.whl (288 kB)\n",
      "\u001b[K     |████████████████████████████████| 288 kB 1.6 MB/s eta 0:00:01\n",
      "\u001b[?25hInstalling collected packages: regex, joblib, click, nltk\n",
      "Successfully installed click-8.0.3 joblib-1.1.0 nltk-3.6.5 regex-2021.10.8\n",
      "Note: you may need to restart the kernel to use updated packages.\n"
     ]
    }
   ],
   "source": [
    "#pip install nltk"
   ]
  },
  {
   "cell_type": "code",
   "execution_count": 24,
   "id": "34a3e69b",
   "metadata": {},
   "outputs": [],
   "source": [
    "import pandas as pd\n",
    "import re, string\n",
    "import time\n",
    "import json\n",
    "from nltk import tokenize\n",
    "import math\n",
    "import customStopWordList\n",
    "import nltk\n",
    "# nltk.download('punkt')\n",
    "from nltk.tokenize import word_tokenize\n",
    "from nltk.corpus import stopwords\n",
    "from nltk.stem.porter import PorterStemmer\n"
   ]
  },
  {
   "cell_type": "markdown",
   "id": "6c64a2d7",
   "metadata": {},
   "source": [
    "Setting up wiki"
   ]
  },
  {
   "cell_type": "code",
   "execution_count": 65,
   "id": "f54edd41",
   "metadata": {},
   "outputs": [
    {
     "name": "stdout",
     "output_type": "stream",
     "text": [
      "                                                   content  \\\n",
      "0        Morocco–Saudi Arabia relations\\r\\n\\r\\nMoroccan...   \n",
      "1        Anthony United States Post Office\\r\\n\\r\\nThe A...   \n",
      "2        Dumraon (Vidhan Sabha constituency)\\r\\n\\r\\nDum...   \n",
      "3        Chaker Khazaal\\r\\n\\r\\nChaker Khazaal (born 28 ...   \n",
      "4        Vicente Pascual Pastor\\r\\n\\r\\nVicente Pascual ...   \n",
      "...                                                    ...   \n",
      "1286259  Toppr\\r\\n\\r\\nToppr is a product of Haygot Educ...   \n",
      "1286260  Outline of education\\r\\n\\r\\nThe following outl...   \n",
      "1286261  Raell Padamsee\\r\\n\\r\\nRaell Padamsee is an Ind...   \n",
      "1286262  Megan Callaway\\r\\n\\r\\nMegan Callaway is a foun...   \n",
      "1286263  Diane Reay\\r\\n\\r\\nDiane Reay is a sociologist ...   \n",
      "\n",
      "                                       title       id  \n",
      "0             Morocco–Saudi Arabia relations        1  \n",
      "1          Anthony United States Post Office        2  \n",
      "2        Dumraon  Vidhan Sabha constituency         3  \n",
      "3                             Chaker Khazaal        4  \n",
      "4                     Vicente Pascual Pastor        5  \n",
      "...                                      ...      ...  \n",
      "1286259                                Toppr  1286260  \n",
      "1286260                 Outline of education  1286261  \n",
      "1286261                       Raell Padamsee  1286262  \n",
      "1286262                       Megan Callaway  1286263  \n",
      "1286263                           Diane Reay  1286264  \n",
      "\n",
      "[1286264 rows x 3 columns]\n"
     ]
    }
   ],
   "source": [
    "with open('Computed/wiki_dict.json') as json_file:\n",
    "    wiki_dict = json.load(json_file)\n",
    "# wiki = pd.read_csv('Computed/wiki.csv')[['content','title','id']]\n",
    "wiki = pd.read_csv('project_1_Wiki_sample.csv')[['content','title','id']]\n",
    "\n",
    "print(wiki)"
   ]
  },
  {
   "cell_type": "code",
   "execution_count": 66,
   "id": "4bfd4d04",
   "metadata": {},
   "outputs": [],
   "source": [
    "def lower_case_str(string_to_be_lower_cased):\n",
    "    lowercase_str_result = str(string_to_be_lower_cased).lower()\n",
    "    return lowercase_str_result\n",
    "\n",
    "def remove_punc(string_has_punc):\n",
    "    no_punc_result = re.sub('[-=+,#/\\?:^$.@*\\\"※~&%ㆍ!』\\\\‘|\\(\\)\\[\\]\\<\\>`\\'…》]', ' ', str(string_has_punc))\n",
    "    return no_punc_result\n",
    "\n",
    "def filter_tokens(str_to_be_filtered):\n",
    "    stopword_list = customStopWordList.get_custom_sw_list()\n",
    "    filtered_tokens = \"\"\n",
    "    for w in str(str_to_be_filtered).split(\" \"):\n",
    "        if w not in stopword_list:\n",
    "            filtered_tokens += w + \" \"\n",
    "    return filtered_tokens\n",
    "porter = PorterStemmer()\n",
    "def stem_tokens(str_to_be_stemmed):\n",
    "    stemmed_str = \"\"\n",
    "    for w in str(str_to_be_stemmed).split(\" \"):\n",
    "        stemmed_str += porter.stem(w) + \" \"\n",
    "    return stemmed_str"
   ]
  },
  {
   "cell_type": "markdown",
   "id": "2a403bc4",
   "metadata": {},
   "source": [
    "Splitting Documents into sentences"
   ]
  },
  {
   "cell_type": "code",
   "execution_count": 67,
   "id": "4677a8b5",
   "metadata": {},
   "outputs": [
    {
     "data": {
      "text/html": [
       "<div>\n",
       "<style scoped>\n",
       "    .dataframe tbody tr th:only-of-type {\n",
       "        vertical-align: middle;\n",
       "    }\n",
       "\n",
       "    .dataframe tbody tr th {\n",
       "        vertical-align: top;\n",
       "    }\n",
       "\n",
       "    .dataframe thead th {\n",
       "        text-align: right;\n",
       "    }\n",
       "</style>\n",
       "<table border=\"1\" class=\"dataframe\">\n",
       "  <thead>\n",
       "    <tr style=\"text-align: right;\">\n",
       "      <th></th>\n",
       "      <th>content</th>\n",
       "      <th>title</th>\n",
       "      <th>id</th>\n",
       "    </tr>\n",
       "  </thead>\n",
       "  <tbody>\n",
       "    <tr>\n",
       "      <th>0</th>\n",
       "      <td>Morocco–Saudi Arabia relations\\r\\n\\r\\nMoroccan...</td>\n",
       "      <td>Morocco–Saudi Arabia relations</td>\n",
       "      <td>1</td>\n",
       "    </tr>\n",
       "    <tr>\n",
       "      <th>1</th>\n",
       "      <td>Anthony United States Post Office\\r\\n\\r\\nThe A...</td>\n",
       "      <td>Anthony United States Post Office</td>\n",
       "      <td>2</td>\n",
       "    </tr>\n",
       "    <tr>\n",
       "      <th>2</th>\n",
       "      <td>Dumraon (Vidhan Sabha constituency)\\r\\n\\r\\nDum...</td>\n",
       "      <td>Dumraon  Vidhan Sabha constituency</td>\n",
       "      <td>3</td>\n",
       "    </tr>\n",
       "    <tr>\n",
       "      <th>3</th>\n",
       "      <td>Chaker Khazaal\\r\\n\\r\\nChaker Khazaal (born 28 ...</td>\n",
       "      <td>Chaker Khazaal</td>\n",
       "      <td>4</td>\n",
       "    </tr>\n",
       "    <tr>\n",
       "      <th>4</th>\n",
       "      <td>Vicente Pascual Pastor\\r\\n\\r\\nVicente Pascual ...</td>\n",
       "      <td>Vicente Pascual Pastor</td>\n",
       "      <td>5</td>\n",
       "    </tr>\n",
       "    <tr>\n",
       "      <th>...</th>\n",
       "      <td>...</td>\n",
       "      <td>...</td>\n",
       "      <td>...</td>\n",
       "    </tr>\n",
       "    <tr>\n",
       "      <th>1286259</th>\n",
       "      <td>Toppr\\r\\n\\r\\nToppr is a product of Haygot Educ...</td>\n",
       "      <td>Toppr</td>\n",
       "      <td>1286260</td>\n",
       "    </tr>\n",
       "    <tr>\n",
       "      <th>1286260</th>\n",
       "      <td>Outline of education\\r\\n\\r\\nThe following outl...</td>\n",
       "      <td>Outline of education</td>\n",
       "      <td>1286261</td>\n",
       "    </tr>\n",
       "    <tr>\n",
       "      <th>1286261</th>\n",
       "      <td>Raell Padamsee\\r\\n\\r\\nRaell Padamsee is an Ind...</td>\n",
       "      <td>Raell Padamsee</td>\n",
       "      <td>1286262</td>\n",
       "    </tr>\n",
       "    <tr>\n",
       "      <th>1286262</th>\n",
       "      <td>Megan Callaway\\r\\n\\r\\nMegan Callaway is a foun...</td>\n",
       "      <td>Megan Callaway</td>\n",
       "      <td>1286263</td>\n",
       "    </tr>\n",
       "    <tr>\n",
       "      <th>1286263</th>\n",
       "      <td>Diane Reay\\r\\n\\r\\nDiane Reay is a sociologist ...</td>\n",
       "      <td>Diane Reay</td>\n",
       "      <td>1286264</td>\n",
       "    </tr>\n",
       "  </tbody>\n",
       "</table>\n",
       "<p>1286264 rows × 3 columns</p>\n",
       "</div>"
      ],
      "text/plain": [
       "                                                   content  \\\n",
       "0        Morocco–Saudi Arabia relations\\r\\n\\r\\nMoroccan...   \n",
       "1        Anthony United States Post Office\\r\\n\\r\\nThe A...   \n",
       "2        Dumraon (Vidhan Sabha constituency)\\r\\n\\r\\nDum...   \n",
       "3        Chaker Khazaal\\r\\n\\r\\nChaker Khazaal (born 28 ...   \n",
       "4        Vicente Pascual Pastor\\r\\n\\r\\nVicente Pascual ...   \n",
       "...                                                    ...   \n",
       "1286259  Toppr\\r\\n\\r\\nToppr is a product of Haygot Educ...   \n",
       "1286260  Outline of education\\r\\n\\r\\nThe following outl...   \n",
       "1286261  Raell Padamsee\\r\\n\\r\\nRaell Padamsee is an Ind...   \n",
       "1286262  Megan Callaway\\r\\n\\r\\nMegan Callaway is a foun...   \n",
       "1286263  Diane Reay\\r\\n\\r\\nDiane Reay is a sociologist ...   \n",
       "\n",
       "                                       title       id  \n",
       "0             Morocco–Saudi Arabia relations        1  \n",
       "1          Anthony United States Post Office        2  \n",
       "2        Dumraon  Vidhan Sabha constituency         3  \n",
       "3                             Chaker Khazaal        4  \n",
       "4                     Vicente Pascual Pastor        5  \n",
       "...                                      ...      ...  \n",
       "1286259                                Toppr  1286260  \n",
       "1286260                 Outline of education  1286261  \n",
       "1286261                       Raell Padamsee  1286262  \n",
       "1286262                       Megan Callaway  1286263  \n",
       "1286263                           Diane Reay  1286264  \n",
       "\n",
       "[1286264 rows x 3 columns]"
      ]
     },
     "execution_count": 67,
     "metadata": {},
     "output_type": "execute_result"
    }
   ],
   "source": [
    "def splitDoc(s):\n",
    "    sentence_spliter = re.split(r'(?<=[^A-Z].[.?]) +(?=[A-Z])', str (s))\n",
    "    return sentence_spliter\n",
    "\n",
    "df1 = wiki\n",
    "# df1['content'] = wiki['content'].apply(splitDoc)\n",
    "df1"
   ]
  },
  {
   "cell_type": "code",
   "execution_count": 68,
   "id": "fcde0a13",
   "metadata": {},
   "outputs": [
    {
     "data": {
      "text/plain": [
       "\"Morocco–Saudi Arabia relations\\r\\n\\r\\nMoroccan–Saudi Arabian relations refers to the current and historical relations between Morocco and Saudi Arabia. Morocco has an embassy in Riyadh and Saudi Arabia has an embassy in Rabat.\\r\\n\\r\\nBoth two nations have a long and traditional friendly relations based on many historical commons. Both Morocco and Saudi Arabia are two monarch states ruled by respective families, the Alaouites and the Al-Sauds, adhere to Sunni Islam, fear of growing Iranian and Shiite influence and their relationship is mostly described as excellent.\\r\\n\\r\\nMorocco and Saudi Arabia have together taken steps to curb Iranian influence in the Arab world, although Morocco has a moderate approach to Iran while Saudi Arabia is more cautious and hostile of Iran.\\r\\n\\r\\nSaudi Arabia has recently supported Morocco over the dispute of Western Sahara and doesn't recognize the legitimacy of Sahrawi Arab Democratic Republic, through the Arab League. Saudi Arabia, on the other side, also helps funding several projects in the region with support from Moroccan authorities.\\r\\n\\r\\nDuring the current Yemeni Civil War, Morocco participates as part of the anti-Houthi coalition led by Saudi Arabia, with 6 planes and 1,500 troops.\\r\\n\\r\\nMorocco has taken neutral stance in the conflict, hoping for a better resolution that benefit Qatar and Saudi Arabia, the former had participated together with Morocco in anti-Houthi campaign. Morocco even offers to act as a mediator to slow the tensions between two Gulf Arab states.\""
      ]
     },
     "execution_count": 68,
     "metadata": {},
     "output_type": "execute_result"
    }
   ],
   "source": [
    "df1['content'].iloc[0]"
   ]
  },
  {
   "cell_type": "code",
   "execution_count": 69,
   "id": "a970ce56",
   "metadata": {},
   "outputs": [
    {
     "data": {
      "text/plain": [
       "['morocco saudi arabia relations moroccan.',\n",
       " 'saudi arabian relat S. refer current histor.',\n",
       " 'relat morocco saudi arabia morocco embassi riyadh saudi arabia embassi rabat both nation long tradit friendli relat base histor common morocco saudi arabia monarch rule respect famili alaouit saud adher sunni islam fear grow iranian shiit influenc relationship excel morocco saudi arabia.',\n",
       " 'step curb 3.14 iranian influenc arab morocco moder approach iran saudi arabia cautiou hostil W. iran saudi arabia support morocco disput western sahara recogn legitimaci sahrawi arab democrat republ arab leagu saudi arabia help fund project region support moroccan author dure current yemeni civil war morocco particip anti houthi coalit led saudi arabia 6 plane 1 500 troop morocco neutral stanc conflict hope resolut benefit qatar saudi.',\n",
       " 'arabia particip morocco anti houthi campaign morocco offer mediat slow tension gulf arab.']"
      ]
     },
     "execution_count": 69,
     "metadata": {},
     "output_type": "execute_result"
    }
   ],
   "source": [
    "sample = 'morocco saudi arabia relations moroccan. saudi arabian relat S. refer current histor. relat morocco saudi arabia morocco embassi riyadh saudi arabia embassi rabat both nation long tradit friendli relat base histor common morocco saudi arabia monarch rule respect famili alaouit saud adher sunni islam fear grow iranian shiit influenc relationship excel morocco saudi arabia. step curb 3.14 iranian influenc arab morocco moder approach iran saudi arabia cautiou hostil W. iran saudi arabia support morocco disput western sahara recogn legitimaci sahrawi arab democrat republ arab leagu saudi arabia help fund project region support moroccan author dure current yemeni civil war morocco particip anti houthi coalit led saudi arabia 6 plane 1 500 troop morocco neutral stanc conflict hope resolut benefit qatar saudi. arabia particip morocco anti houthi campaign morocco offer mediat slow tension gulf arab.'\n",
    "tokenize.sent_tokenize(sample)"
   ]
  },
  {
   "cell_type": "markdown",
   "id": "04f791a2",
   "metadata": {},
   "source": [
    "## NEW TFIDF FOR SENTENCES"
   ]
  },
  {
   "cell_type": "markdown",
   "id": "f6eb983c",
   "metadata": {},
   "source": [
    "### Query TF \n",
    "\n",
    "#### Takes: a word and a sentence\n",
    "\n",
    "#### Returns: a dataframe of the document split up in sentences"
   ]
  },
  {
   "cell_type": "code",
   "execution_count": 93,
   "id": "f324d10b",
   "metadata": {},
   "outputs": [
    {
     "name": "stdout",
     "output_type": "stream",
     "text": [
      "                                             content  WordCounts  NumWords  \\\n",
      "0           morocco saudi arabia relations moroccan.           1         5   \n",
      "1       saudi arabian relat S. refer current histor.           0         7   \n",
      "2  relat morocco saudi arabia morocco embassi riy...           1        42   \n",
      "3  step curb 3.14 iranian influenc arab morocco m...           1        67   \n",
      "4  arabia particip morocco anti houthi campaign m...           1        13   \n",
      "\n",
      "         TF  \n",
      "0  0.200000  \n",
      "1  0.000000  \n",
      "2  0.023810  \n",
      "3  0.014925  \n",
      "4  0.076923  \n"
     ]
    }
   ],
   "source": [
    "def sentenceTF(word, sentences):\n",
    "    content = []\n",
    "    wordCounts = []\n",
    "    sentenceCount = []\n",
    "    wordCount = 0\n",
    "    sentence = tokenize.sent_tokenize(sentences)\n",
    "    for s in sentence:\n",
    "        wordCount = 0\n",
    "        if word in s.split(\" \"):\n",
    "            wordCount += 1\n",
    "        content.append(s)\n",
    "        wordCounts.append(wordCount)\n",
    "        sentenceCount.append(len(s.split(\" \")))\n",
    "    df2 = pd.DataFrame(content, columns =['content'])\n",
    "    df2['WordCounts'] = wordCounts\n",
    "    df2['NumWords'] = sentenceCount\n",
    "    df2['TF'] = (df2['WordCounts']/df2['NumWords'])\n",
    "    return df2\n",
    "\n",
    "word = 'morocco'\n",
    "sample = 'morocco saudi arabia relations moroccan. saudi arabian relat S. refer current histor. relat morocco saudi arabia morocco embassi riyadh saudi arabia embassi rabat both nation long tradit friendli relat base histor common morocco saudi arabia monarch rule respect famili alaouit saud adher sunni islam fear grow iranian shiit influenc relationship excel morocco saudi arabia. step curb 3.14 iranian influenc arab morocco moder approach iran saudi arabia cautiou hostil W. iran saudi arabia support morocco disput western sahara recogn legitimaci sahrawi arab democrat republ arab leagu saudi arabia help fund project region support moroccan author dure current yemeni civil war morocco particip anti houthi coalit led saudi arabia 6 plane 1 500 troop morocco neutral stanc conflict hope resolut benefit qatar saudi. arabia particip morocco anti houthi campaign morocco offer mediat slow tension gulf arab.'\n",
    "\n",
    "df3 = sentenceTF(word, sample)\n",
    "print(df3)"
   ]
  },
  {
   "cell_type": "markdown",
   "id": "b5a2410b",
   "metadata": {},
   "source": [
    "### Query IDF \n",
    "\n",
    "#### Takes: an array of wordCount from Query TF above \n",
    "#### Returns: a single float variable"
   ]
  },
  {
   "cell_type": "code",
   "execution_count": 94,
   "id": "56c088ab",
   "metadata": {},
   "outputs": [
    {
     "name": "stdout",
     "output_type": "stream",
     "text": [
      "0.32192809488736235\n"
     ]
    }
   ],
   "source": [
    "def sentenceIDF(WordCounts):\n",
    "    numSentences = len(df2)\n",
    "    nw = 0\n",
    "    for WordCount in WordCounts:\n",
    "        if int(WordCount) > 0:\n",
    "            nw += 1\n",
    "            \n",
    "    return math.log2(numSentences/nw) # idf\n",
    "\n",
    "print(sentenceIDF(df2['WordCounts']))"
   ]
  },
  {
   "cell_type": "markdown",
   "id": "51712fd7",
   "metadata": {},
   "source": [
    "### Query TFIDF(returns a list of individual sentences TFIDF)\n",
    "\n",
    "#### Takes: a word and a sentence\n",
    "\n",
    "#### Returns: a list of TFIDF for that word and the sentence"
   ]
  },
  {
   "cell_type": "code",
   "execution_count": 95,
   "id": "87dbc132",
   "metadata": {},
   "outputs": [
    {
     "name": "stdout",
     "output_type": "stream",
     "text": [
      "0    0.064386\n",
      "1    0.000000\n",
      "2    0.007665\n",
      "3    0.004805\n",
      "4    0.024764\n",
      "Name: TF, dtype: float64\n"
     ]
    }
   ],
   "source": [
    "def getSentenceTFIDF(word, sentence):\n",
    "    return sentenceTF(word, sentence)['TF'] * (idf)\n",
    "\n",
    "print (getSentenceTFIDF('morocco', sample))"
   ]
  },
  {
   "cell_type": "code",
   "execution_count": 96,
   "id": "6e98c14c",
   "metadata": {},
   "outputs": [
    {
     "name": "stdout",
     "output_type": "stream",
     "text": [
      "['Morocco–Saudi Arabia relations\\r\\n\\r\\nMoroccan–Saudi Arabian relations refers to the current and historical relations between Morocco and Saudi Arabia.', 'Morocco has an embassy in Riyadh and Saudi Arabia has an embassy in Rabat.', 'Both two nations have a long and traditional friendly relations based on many historical commons.', 'Both Morocco and Saudi Arabia are two monarch states ruled by respective families, the Alaouites and the Al-Sauds, adhere to Sunni Islam, fear of growing Iranian and Shiite influence and their relationship is mostly described as excellent.', 'Morocco and Saudi Arabia have together taken steps to curb Iranian influence in the Arab world, although Morocco has a moderate approach to Iran while Saudi Arabia is more cautious and hostile of Iran.', \"Saudi Arabia has recently supported Morocco over the dispute of Western Sahara and doesn't recognize the legitimacy of Sahrawi Arab Democratic Republic, through the Arab League.\", 'Saudi Arabia, on the other side, also helps funding several projects in the region with support from Moroccan authorities.', 'During the current Yemeni Civil War, Morocco participates as part of the anti-Houthi coalition led by Saudi Arabia, with 6 planes and 1,500 troops.', 'Morocco has taken neutral stance in the conflict, hoping for a better resolution that benefit Qatar and Saudi Arabia, the former had participated together with Morocco in anti-Houthi campaign.', 'Morocco even offers to act as a mediator to slow the tensions between two Gulf Arab states.']\n"
     ]
    }
   ],
   "source": [
    "AllWordsTest['content'].iloc[0]\n",
    "strr = \"Morocco–Saudi Arabia relations\\r\\n\\r\\nMoroccan–Saudi Arabian relations refers to the current and historical relations between Morocco and Saudi Arabia. Morocco has an embassy in Riyadh and Saudi Arabia has an embassy in Rabat.\\r\\n\\r\\nBoth two nations have a long and traditional friendly relations based on many historical commons. Both Morocco and Saudi Arabia are two monarch states ruled by respective families, the Alaouites and the Al-Sauds, adhere to Sunni Islam, fear of growing Iranian and Shiite influence and their relationship is mostly described as excellent.\\r\\n\\r\\nMorocco and Saudi Arabia have together taken steps to curb Iranian influence in the Arab world, although Morocco has a moderate approach to Iran while Saudi Arabia is more cautious and hostile of Iran.\\r\\n\\r\\nSaudi Arabia has recently supported Morocco over the dispute of Western Sahara and doesn't recognize the legitimacy of Sahrawi Arab Democratic Republic, through the Arab League. Saudi Arabia, on the other side, also helps funding several projects in the region with support from Moroccan authorities.\\r\\n\\r\\nDuring the current Yemeni Civil War, Morocco participates as part of the anti-Houthi coalition led by Saudi Arabia, with 6 planes and 1,500 troops.\\r\\n\\r\\nMorocco has taken neutral stance in the conflict, hoping for a better resolution that benefit Qatar and Saudi Arabia, the former had participated together with Morocco in anti-Houthi campaign. Morocco even offers to act as a mediator to slow the tensions between two Gulf Arab states.\"\n",
    "print(tokenize.sent_tokenize(strr))"
   ]
  },
  {
   "cell_type": "markdown",
   "id": "e3b60164",
   "metadata": {},
   "source": [
    "### For every term TFIDF (Term/resource)\n",
    "\n",
    "Calculates a document's sentences into a word/resource TFIDF table\n",
    "\n",
    "1. Get all the words within the document.\n",
    "2. Calculate the TFIDF for those words in each sentence. (Missing words will have 0s)\n",
    "\n",
    "#### Takes: A dataframe, and a doc_id\n",
    "#### Returns: Another dataframe of TFIDFs and the sentences"
   ]
  },
  {
   "cell_type": "code",
   "execution_count": 98,
   "id": "615c24ff",
   "metadata": {},
   "outputs": [
    {
     "name": "stdout",
     "output_type": "stream",
     "text": [
      "Mark\n",
      "[0.005379119287775426, 0.004758873900511527, 0.006909179885187102, 0.0024225028085389415, 0.0025102556676285313, 0.0033728245001653015, 0.0048804456252706675, 0.0037784577497116992, 0.003204019209539797, 0.005737727240293787]\n"
     ]
    },
    {
     "name": "stderr",
     "output_type": "stream",
     "text": [
      "/var/folders/kb/7q1qk5ds74sdxqbgl26pm2vw0000gp/T/ipykernel_81019/471501796.py:25: PerformanceWarning: DataFrame is highly fragmented.  This is usually the result of calling `frame.insert` many times, which has poor performance.  Consider joining all columns at once using pd.concat(axis=1) instead.  To get a de-fragmented frame, use `newframe = frame.copy()`\n",
      "  TFDocuments[word] = getSentenceTFIDF(word, dataframe['content'].iloc[count])\n"
     ]
    }
   ],
   "source": [
    "def getAllWords(dataframe, doc_id):\n",
    "    dict = {}\n",
    "    for word in dataframe['content'].iloc[doc_id].split(\" \"):\n",
    "        dict[word] = 0\n",
    "#     print(list(dict.keys()))\n",
    "    return list(dict.keys())\n",
    "\n",
    "def TFIDFAllWords(dataframe, words, doc_id): \n",
    "#     print(\"Here are list of words\")\n",
    "#     print(len(words))\n",
    "    TFDocuments = pd.DataFrame()\n",
    "    \n",
    "    count = 0\n",
    "    first = True\n",
    "    for word in words:\n",
    "        if first:\n",
    "            sentenceID = []\n",
    "            print(\"Mark\")\n",
    "#             print(dataframe['content'].iloc[count])\n",
    "#             print(getSentenceTFIDF(word, dataframe['content'].iloc[count]))\n",
    "            for i in range(len(getSentenceTFIDF(word, dataframe['content'].iloc[count]))):\n",
    "                sentenceID.append(i)\n",
    "            TFDocuments = pd.DataFrame(sentenceID, columns=['Sentence_ID'])\n",
    "            first = False\n",
    "        TFDocuments[word] = getSentenceTFIDF(word, dataframe['content'].iloc[count])\n",
    "    return TFDocuments\n",
    "\n",
    "def secondHalf(dataframe, doc_id):\n",
    "    words = getAllWords(dataframe, doc_id)\n",
    "    NeedsSum = TFIDFAllWords(dataframe, words, doc_id)\n",
    "    \n",
    "    retVals = []\n",
    "    for sentenceID in range(len(NeedsSum)):\n",
    "        retVal = 0\n",
    "        for word in words:\n",
    "            retVal += float(NeedsSum[word].iloc[sentenceID])**2\n",
    "        retVals.append(retVal)\n",
    "    return retVals\n",
    "\n",
    "AllWordsTest = wiki.iloc[0:10]\n",
    "print(secondHalf(AllWordsTest, 0))\n"
   ]
  },
  {
   "cell_type": "markdown",
   "id": "c35ae511",
   "metadata": {},
   "source": [
    "DENOMINATOR"
   ]
  },
  {
   "cell_type": "code",
   "execution_count": 16,
   "id": "58dd2655",
   "metadata": {},
   "outputs": [
    {
     "ename": "TypeError",
     "evalue": "getSentenceTFIDF() missing 1 required positional argument: 'sentence'",
     "output_type": "error",
     "traceback": [
      "\u001b[0;31m---------------------------------------------------------------------------\u001b[0m",
      "\u001b[0;31mTypeError\u001b[0m                                 Traceback (most recent call last)",
      "\u001b[0;32m/var/folders/kb/7q1qk5ds74sdxqbgl26pm2vw0000gp/T/ipykernel_81019/2584651421.py\u001b[0m in \u001b[0;36m<module>\u001b[0;34m\u001b[0m\n\u001b[1;32m     11\u001b[0m \u001b[0;34m\u001b[0m\u001b[0m\n\u001b[1;32m     12\u001b[0m \u001b[0mquery\u001b[0m \u001b[0;34m=\u001b[0m \u001b[0;34m\"morroco saudi\"\u001b[0m\u001b[0;34m\u001b[0m\u001b[0;34m\u001b[0m\u001b[0m\n\u001b[0;32m---> 13\u001b[0;31m \u001b[0msecondHalf\u001b[0m\u001b[0;34m(\u001b[0m\u001b[0mquery\u001b[0m\u001b[0;34m)\u001b[0m\u001b[0;34m\u001b[0m\u001b[0;34m\u001b[0m\u001b[0m\n\u001b[0m",
      "\u001b[0;32m/var/folders/kb/7q1qk5ds74sdxqbgl26pm2vw0000gp/T/ipykernel_81019/2584651421.py\u001b[0m in \u001b[0;36msecondHalf\u001b[0;34m(query)\u001b[0m\n\u001b[1;32m      7\u001b[0m     \u001b[0;32mglobal\u001b[0m \u001b[0mtotalTFIDF\u001b[0m\u001b[0;34m\u001b[0m\u001b[0;34m\u001b[0m\u001b[0m\n\u001b[1;32m      8\u001b[0m     \u001b[0;32mfor\u001b[0m \u001b[0mword\u001b[0m \u001b[0;32min\u001b[0m \u001b[0mquery\u001b[0m\u001b[0;34m.\u001b[0m\u001b[0msplit\u001b[0m\u001b[0;34m(\u001b[0m\u001b[0;34m\" \"\u001b[0m\u001b[0;34m)\u001b[0m\u001b[0;34m:\u001b[0m\u001b[0;34m\u001b[0m\u001b[0;34m\u001b[0m\u001b[0m\n\u001b[0;32m----> 9\u001b[0;31m         \u001b[0mtotalTFIDF\u001b[0m \u001b[0;34m+=\u001b[0m \u001b[0mgetSentenceTFIDF\u001b[0m\u001b[0;34m(\u001b[0m\u001b[0mword\u001b[0m\u001b[0;34m)\u001b[0m\u001b[0;34m**\u001b[0m\u001b[0;36m2\u001b[0m\u001b[0;34m\u001b[0m\u001b[0;34m\u001b[0m\u001b[0m\n\u001b[0m\u001b[1;32m     10\u001b[0m     \u001b[0;32mreturn\u001b[0m \u001b[0;34m(\u001b[0m\u001b[0mmath\u001b[0m\u001b[0;34m.\u001b[0m\u001b[0msqrt\u001b[0m\u001b[0;34m(\u001b[0m\u001b[0mtotalTFIDF\u001b[0m\u001b[0;34m)\u001b[0m\u001b[0;34m)\u001b[0m\u001b[0;34m\u001b[0m\u001b[0;34m\u001b[0m\u001b[0m\n\u001b[1;32m     11\u001b[0m \u001b[0;34m\u001b[0m\u001b[0m\n",
      "\u001b[0;31mTypeError\u001b[0m: getSentenceTFIDF() missing 1 required positional argument: 'sentence'"
     ]
    }
   ],
   "source": [
    "def firstHalf(sentence):\n",
    "    firsthalf = math.sqrt(len(sentence)*1)\n",
    "    return (firsthalf)\n",
    "\n",
    "\n",
    "\n",
    "query = \"morroco saudi\"\n",
    "secondHalf(query ,0)"
   ]
  },
  {
   "cell_type": "markdown",
   "id": "bc499373",
   "metadata": {},
   "source": [
    "COSINE SIMULARITY"
   ]
  },
  {
   "cell_type": "code",
   "execution_count": null,
   "id": "8f78be11",
   "metadata": {},
   "outputs": [],
   "source": [
    "def cosineSimularity(word, docID):\n",
    "    for doc in df:\n",
    "        splitDoc();\n",
    "        for sectence in doc:\n",
    "            sentence "
   ]
  }
 ],
 "metadata": {
  "kernelspec": {
   "display_name": "Python 3 (ipykernel)",
   "language": "python",
   "name": "python3"
  },
  "language_info": {
   "codemirror_mode": {
    "name": "ipython",
    "version": 3
   },
   "file_extension": ".py",
   "mimetype": "text/x-python",
   "name": "python",
   "nbconvert_exporter": "python",
   "pygments_lexer": "ipython3",
   "version": "3.8.11"
  }
 },
 "nbformat": 4,
 "nbformat_minor": 5
}
