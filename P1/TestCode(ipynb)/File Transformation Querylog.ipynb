{
 "cells": [
  {
   "cell_type": "code",
   "execution_count": 23,
   "id": "9fffdfe0",
   "metadata": {},
   "outputs": [],
   "source": [
    "import pandas as pd\n",
    "import customStopWordList\n",
    "import nltk\n",
    "# nltk.download('punkt')\n",
    "from nltk.tokenize import word_tokenize\n",
    "from nltk.corpus import stopwords\n",
    "from nltk.stem.porter import PorterStemmer\n",
    "import re, string\n",
    "import time\n",
    "import json\n"
   ]
  },
  {
   "cell_type": "markdown",
   "id": "3d5b1452",
   "metadata": {},
   "source": [
    "Read"
   ]
  },
  {
   "cell_type": "code",
   "execution_count": 2,
   "id": "01335b36",
   "metadata": {},
   "outputs": [
    {
     "name": "stdout",
     "output_type": "stream",
     "text": [
      "<class 'pandas.core.frame.DataFrame'>\n",
      "Int64Index: 3942354 entries, 0 to 834356\n",
      "Data columns (total 3 columns):\n",
      " #   Column     Dtype \n",
      "---  ------     ----- \n",
      " 0   AnonID     int64 \n",
      " 1   Query      object\n",
      " 2   QueryTime  object\n",
      "dtypes: int64(1), object(2)\n",
      "memory usage: 120.3+ MB\n",
      "None\n"
     ]
    }
   ],
   "source": [
    "ql = pd.read_table('project_1_AOL_query_log/Clean-Data-01.txt', sep='\\t')\n",
    "\n",
    "ql = ql.append(pd.read_table('project_1_AOL_query_log/Clean-Data-02.txt', sep='\\t'))\n",
    "ql = ql.append(pd.read_table('project_1_AOL_query_log/Clean-Data-03.txt', sep='\\t'))\n",
    "ql = ql.append(pd.read_table('project_1_AOL_query_log/Clean-Data-04.txt', sep='\\t'))\n",
    "ql = ql.append(pd.read_table('project_1_AOL_query_log/Clean-Data-05.txt', sep='\\t'))\n",
    "print(ql.info())"
   ]
  },
  {
   "cell_type": "code",
   "execution_count": 3,
   "id": "c6318b43",
   "metadata": {},
   "outputs": [],
   "source": [
    "# ql = pd.read_table('project_1_AOL_query_log/test.txt', sep='\\t')"
   ]
  },
  {
   "cell_type": "markdown",
   "id": "0c7f78e8",
   "metadata": {},
   "source": [
    "Methods"
   ]
  },
  {
   "cell_type": "code",
   "execution_count": 4,
   "id": "6b7503c1",
   "metadata": {},
   "outputs": [],
   "source": [
    "def lower_case_str(string_to_be_lower_cased):\n",
    "    lowercase_str_result = str(string_to_be_lower_cased).lower()\n",
    "    return lowercase_str_result\n",
    "\n",
    "def remove_punc(string_has_punc):\n",
    "    no_punc_result = re.sub('[-=+,#/\\?:^$.@*\\\"※~&%ㆍ!』\\\\‘|\\(\\)\\[\\]\\<\\>`\\'…》]', ' ', str(string_has_punc))\n",
    "    return no_punc_result\n",
    "\n",
    "def filter_tokens(str_to_be_filtered):\n",
    "    stopword_list = customStopWordList.get_custom_sw_list()\n",
    "    filtered_tokens = \"\"\n",
    "    for w in str(str_to_be_filtered).split(\" \"):\n",
    "        if w not in stopword_list:\n",
    "            filtered_tokens += w + \" \"\n",
    "    return filtered_tokens\n",
    "porter = PorterStemmer()\n",
    "def stem_tokens(str_to_be_stemmed):\n",
    "    stemmed_str = \"\"\n",
    "    for w in str(str_to_be_stemmed).split(\" \"):\n",
    "        stemmed_str += porter.stem(w) + \" \"\n",
    "    return stemmed_str"
   ]
  },
  {
   "cell_type": "markdown",
   "id": "6cd68287",
   "metadata": {},
   "source": [
    "Process"
   ]
  },
  {
   "cell_type": "code",
   "execution_count": 5,
   "id": "ca74d25e",
   "metadata": {},
   "outputs": [],
   "source": [
    "ql['Query'] = ql['Query'].apply(lower_case_str)"
   ]
  },
  {
   "cell_type": "code",
   "execution_count": 7,
   "id": "d731d0ec",
   "metadata": {},
   "outputs": [],
   "source": [
    "ql['Query'] = ql['Query'].apply(remove_punc)"
   ]
  },
  {
   "cell_type": "code",
   "execution_count": 9,
   "id": "a3689be4",
   "metadata": {},
   "outputs": [],
   "source": [
    "ql['Query'] = ql['Query'].apply(filter_tokens)"
   ]
  },
  {
   "cell_type": "code",
   "execution_count": 11,
   "id": "035cd888",
   "metadata": {},
   "outputs": [],
   "source": [
    "ql['Query'] = ql['Query'].apply(stem_tokens)"
   ]
  },
  {
   "cell_type": "code",
   "execution_count": 12,
   "id": "824b57bf",
   "metadata": {},
   "outputs": [
    {
     "data": {
      "text/html": [
       "<div>\n",
       "<style scoped>\n",
       "    .dataframe tbody tr th:only-of-type {\n",
       "        vertical-align: middle;\n",
       "    }\n",
       "\n",
       "    .dataframe tbody tr th {\n",
       "        vertical-align: top;\n",
       "    }\n",
       "\n",
       "    .dataframe thead th {\n",
       "        text-align: right;\n",
       "    }\n",
       "</style>\n",
       "<table border=\"1\" class=\"dataframe\">\n",
       "  <thead>\n",
       "    <tr style=\"text-align: right;\">\n",
       "      <th></th>\n",
       "      <th>AnonID</th>\n",
       "      <th>Query</th>\n",
       "      <th>QueryTime</th>\n",
       "    </tr>\n",
       "  </thead>\n",
       "  <tbody>\n",
       "    <tr>\n",
       "      <th>0</th>\n",
       "      <td>142</td>\n",
       "      <td>merit releas appear</td>\n",
       "      <td>2006-04-22 23:51:18</td>\n",
       "    </tr>\n",
       "    <tr>\n",
       "      <th>1</th>\n",
       "      <td>217</td>\n",
       "      <td>lotteri</td>\n",
       "      <td>2006-03-01 11:58:51</td>\n",
       "    </tr>\n",
       "    <tr>\n",
       "      <th>2</th>\n",
       "      <td>217</td>\n",
       "      <td>lotteri</td>\n",
       "      <td>2006-03-27 14:10:38</td>\n",
       "    </tr>\n",
       "    <tr>\n",
       "      <th>3</th>\n",
       "      <td>217</td>\n",
       "      <td>vietnam</td>\n",
       "      <td>2006-05-22 17:43:42</td>\n",
       "    </tr>\n",
       "    <tr>\n",
       "      <th>4</th>\n",
       "      <td>217</td>\n",
       "      <td>vietnam</td>\n",
       "      <td>2006-05-22 18:03:24</td>\n",
       "    </tr>\n",
       "    <tr>\n",
       "      <th>...</th>\n",
       "      <td>...</td>\n",
       "      <td>...</td>\n",
       "      <td>...</td>\n",
       "    </tr>\n",
       "    <tr>\n",
       "      <th>834352</th>\n",
       "      <td>24963973</td>\n",
       "      <td>unit church christ clergi stole</td>\n",
       "      <td>2006-05-31 21:54:09</td>\n",
       "    </tr>\n",
       "    <tr>\n",
       "      <th>834353</th>\n",
       "      <td>24963973</td>\n",
       "      <td>nation cathedr gift store</td>\n",
       "      <td>2006-05-31 21:58:42</td>\n",
       "    </tr>\n",
       "    <tr>\n",
       "      <th>834354</th>\n",
       "      <td>24965114</td>\n",
       "      <td>weather</td>\n",
       "      <td>2006-05-31 21:17:04</td>\n",
       "    </tr>\n",
       "    <tr>\n",
       "      <th>834355</th>\n",
       "      <td>24965131</td>\n",
       "      <td>dictionari</td>\n",
       "      <td>2006-05-31 22:34:16</td>\n",
       "    </tr>\n",
       "    <tr>\n",
       "      <th>834356</th>\n",
       "      <td>24967039</td>\n",
       "      <td>vienna opera</td>\n",
       "      <td>2006-05-31 13:59:45</td>\n",
       "    </tr>\n",
       "  </tbody>\n",
       "</table>\n",
       "<p>3942354 rows × 3 columns</p>\n",
       "</div>"
      ],
      "text/plain": [
       "          AnonID                              Query            QueryTime\n",
       "0            142              merit releas appear    2006-04-22 23:51:18\n",
       "1            217                          lotteri    2006-03-01 11:58:51\n",
       "2            217                          lotteri    2006-03-27 14:10:38\n",
       "3            217                          vietnam    2006-05-22 17:43:42\n",
       "4            217                          vietnam    2006-05-22 18:03:24\n",
       "...          ...                                ...                  ...\n",
       "834352  24963973  unit church christ clergi stole    2006-05-31 21:54:09\n",
       "834353  24963973        nation cathedr gift store    2006-05-31 21:58:42\n",
       "834354  24965114                          weather    2006-05-31 21:17:04\n",
       "834355  24965131                       dictionari    2006-05-31 22:34:16\n",
       "834356  24967039                     vienna opera    2006-05-31 13:59:45\n",
       "\n",
       "[3942354 rows x 3 columns]"
      ]
     },
     "execution_count": 12,
     "metadata": {},
     "output_type": "execute_result"
    }
   ],
   "source": [
    "ql"
   ]
  },
  {
   "cell_type": "markdown",
   "id": "7e421aa7",
   "metadata": {},
   "source": [
    "Code for Inverted Index"
   ]
  },
  {
   "cell_type": "code",
   "execution_count": 18,
   "id": "d649b16a",
   "metadata": {},
   "outputs": [
    {
     "data": {
      "text/html": [
       "<div>\n",
       "<style scoped>\n",
       "    .dataframe tbody tr th:only-of-type {\n",
       "        vertical-align: middle;\n",
       "    }\n",
       "\n",
       "    .dataframe tbody tr th {\n",
       "        vertical-align: top;\n",
       "    }\n",
       "\n",
       "    .dataframe thead th {\n",
       "        text-align: right;\n",
       "    }\n",
       "</style>\n",
       "<table border=\"1\" class=\"dataframe\">\n",
       "  <thead>\n",
       "    <tr style=\"text-align: right;\">\n",
       "      <th></th>\n",
       "      <th>AnonID</th>\n",
       "      <th>Query</th>\n",
       "    </tr>\n",
       "  </thead>\n",
       "  <tbody>\n",
       "    <tr>\n",
       "      <th>0</th>\n",
       "      <td>142</td>\n",
       "      <td>merit release appearance</td>\n",
       "    </tr>\n",
       "    <tr>\n",
       "      <th>1</th>\n",
       "      <td>217</td>\n",
       "      <td>lottery</td>\n",
       "    </tr>\n",
       "    <tr>\n",
       "      <th>2</th>\n",
       "      <td>217</td>\n",
       "      <td>lottery</td>\n",
       "    </tr>\n",
       "    <tr>\n",
       "      <th>3</th>\n",
       "      <td>217</td>\n",
       "      <td>vietnam</td>\n",
       "    </tr>\n",
       "    <tr>\n",
       "      <th>4</th>\n",
       "      <td>217</td>\n",
       "      <td>vietnam</td>\n",
       "    </tr>\n",
       "    <tr>\n",
       "      <th>5</th>\n",
       "      <td>217</td>\n",
       "      <td>fairly</td>\n",
       "    </tr>\n",
       "    <tr>\n",
       "      <th>6</th>\n",
       "      <td>217</td>\n",
       "      <td>two</td>\n",
       "    </tr>\n",
       "    <tr>\n",
       "      <th>7</th>\n",
       "      <td>218</td>\n",
       "      <td>vietnam</td>\n",
       "    </tr>\n",
       "    <tr>\n",
       "      <th>8</th>\n",
       "      <td>219</td>\n",
       "      <td>vietnam</td>\n",
       "    </tr>\n",
       "  </tbody>\n",
       "</table>\n",
       "</div>"
      ],
      "text/plain": [
       "   AnonID                     Query\n",
       "0     142  merit release appearance\n",
       "1     217                   lottery\n",
       "2     217                   lottery\n",
       "3     217                   vietnam\n",
       "4     217                   vietnam\n",
       "5     217                    fairly\n",
       "6     217                       two\n",
       "7     218                   vietnam\n",
       "8     219                   vietnam"
      ]
     },
     "execution_count": 18,
     "metadata": {},
     "output_type": "execute_result"
    }
   ],
   "source": [
    "# processed_ql = pd.read_csv(\"ql.csv\", sep=',')[['AnonID','Query']]\n",
    "processed_ql = pd.read_csv(\"test.csv\", sep='\\t')[['AnonID','Query']]\n",
    "\n",
    "processed_ql"
   ]
  },
  {
   "cell_type": "code",
   "execution_count": 19,
   "id": "765c4227",
   "metadata": {},
   "outputs": [
    {
     "name": "stdout",
     "output_type": "stream",
     "text": [
      "0\n",
      "0.0035610198974609375\n"
     ]
    }
   ],
   "source": [
    "start = time.time()\n",
    "\n",
    "dict = {}\n",
    "\n",
    "\n",
    "\n",
    "def invertedIndex(id, query):\n",
    "    for word in query.split(\" \"):\n",
    "        if word not in dict.keys(): # if word is not in dict\n",
    "            dict[word] = {str(id):1}\n",
    "        else: # if word is already in dict\n",
    "            if id not in dict[word].keys(): # but id does not exist in inner dict\n",
    "                dict[word][str(id)] = 1\n",
    "            else: # id does exist\n",
    "                dict[word][str(id)] += 1\n",
    "\n",
    "for i in range(len(processed_ql)):\n",
    "    invertedIndex(str(processed_ql['AnonID'].iloc[i]), str(processed_ql['Query'].iloc[i]))\n",
    "    if i % 100000 == 0:\n",
    "        print(i)\n",
    "end = time.time()\n",
    "print(end - start)"
   ]
  },
  {
   "cell_type": "markdown",
   "id": "40d46f89",
   "metadata": {},
   "source": [
    "Save to Json"
   ]
  },
  {
   "cell_type": "code",
   "execution_count": 31,
   "id": "b6f0d204",
   "metadata": {},
   "outputs": [],
   "source": [
    "with open(\"ql.json\", \"w\") as f:\n",
    "    json.dump(dict, f)"
   ]
  },
  {
   "cell_type": "markdown",
   "id": "3d0d0cac",
   "metadata": {},
   "source": [
    "Read Json"
   ]
  },
  {
   "cell_type": "code",
   "execution_count": 34,
   "id": "47893d85",
   "metadata": {},
   "outputs": [
    {
     "name": "stdout",
     "output_type": "stream",
     "text": [
      "{'217': 2, '6497': 5, '29894': 1, '83811': 1, '120602': 1, '135278': 1, '344290': 3, '422628': 1, '548101': 42, '580995': 1, '586833': 4, '794320': 1, '854614': 1, '856564': 1, '856648': 7, '1008216': 1, '1019836': 3, '1173864': 1, '1493865': 1, '1535234': 1, '1730018': 1, '1762269': 1, '1782500': 11, '1839415': 8, '1903540': 1, '1969842': 9, '1983278': 1, '2068539': 1, '2112685': 1, '2368247': 1, '2375775': 1, '2413037': 3, '2579133': 4, '2616880': 5, '2680021': 1, '2821704': 2, '2824876': 2, '2879822': 2, '2942541': 2, '2973563': 4, '3044936': 1, '3074965': 1, '3085753': 1, '3458083': 1, '3583799': 2, '3607038': 1, '3804715': 1, '4330098': 2, '4333948': 1, '4371348': 1, '4517678': 1, '4647866': 1, '4683373': 2, '4786261': 2, '5183118': 1, '5281334': 1, '5781798': 3, '5860866': 1, '6057922': 1, '6115030': 2, '6578756': 1, '6588388': 2, '6738992': 1, '7533857': 6, '7782111': 5, '7819222': 2, '8046906': 1, '8328046': 1, '9487433': 2, '9611582': 2, '9615057': 2, '9671613': 1, '10194867': 1, '10719958': 2, '10799813': 10, '11326262': 1, '11612209': 1, '11741019': 2, '12205359': 1, '12382987': 1, '12830386': 2, '13272136': 1, '13924643': 1, '14543410': 1, '14740709': 1, '15362765': 2, '15489747': 2, '16653204': 1, '17757025': 1, '18031526': 1, '18051964': 1, '19337639': 2, '19486853': 1, '21675790': 1, '22906496': 1, '24042636': 1, '85367': 1, '234580': 1, '285826': 3, '300862': 1, '488922': 1, '631758': 1, '808351': 4, '977572': 1, '986225': 1, '1014141': 1, '1134805': 1, '1242562': 20, '1307041': 2, '1439539': 4, '1465610': 2, '1572673': 3, '1631464': 1, '1669424': 1, '1855963': 1, '1996491': 5, '2250343': 1, '2314525': 10, '2638623': 1, '2751806': 1, '2836481': 10, '2853897': 3, '2888169': 1, '2955630': 3, '2982849': 4, '3013511': 1, '3016275': 2, '3319802': 1, '3336371': 1, '3376059': 1, '3527241': 1, '3589983': 1, '4026361': 9, '4559124': 1, '4607060': 2, '4793829': 20, '4803668': 1, '4836560': 2, '4850250': 1, '4961149': 1, '5106793': 7, '5497643': 1, '5855743': 1, '5896811': 2, '6456268': 1, '6456846': 2, '6479503': 1, '6611680': 1, '6910199': 1, '8372941': 3, '8898576': 3, '9225475': 1, '9461954': 1, '9515184': 1, '9518819': 1, '10396201': 2, '10542617': 4, '10652399': 1, '11056941': 7, '11349765': 1, '11360235': 1, '11438402': 5, '11687198': 3, '11709320': 1, '12507291': 2, '12682171': 1, '12717210': 2, '13061403': 1, '13752911': 1, '14364043': 1, '14558919': 1, '15050013': 2, '15601148': 1, '16382757': 4, '17388364': 1, '18929647': 1, '20541339': 1, '22542336': 1, '24961109': 1, '34869': 4, '59920': 6, '89874': 1, '178176': 2, '264819': 1, '266804': 1, '368890': 1, '472835': 1, '629156': 2, '660799': 2, '804411': 2, '1094380': 6, '1172849': 1, '1178122': 3, '1180293': 1, '1207329': 2, '1230218': 2, '1234417': 1, '1411796': 1, '1449836': 1, '1487393': 2, '1910073': 2, '1985344': 1, '2105911': 2, '2238328': 1, '2600380': 1, '2640692': 2, '2692551': 4, '3047833': 1, '3054460': 1, '3132534': 3, '3515277': 5, '3538722': 1, '3814801': 1, '3827530': 1, '3846814': 1, '3937551': 7, '4366476': 1, '5061425': 3, '5113213': 7, '5240948': 1, '5263125': 1, '5299281': 3, '5663205': 1, '5724294': 3, '5890519': 1, '6336399': 1, '6554604': 1, '6629541': 1, '7255196': 1, '7311673': 2, '7808318': 1, '8134560': 1, '8508260': 1, '8651393': 1, '8668592': 1, '8717812': 1, '8992556': 2, '9168613': 2, '9401665': 1, '9855602': 1, '10805338': 1, '10969338': 1, '11858315': 1, '11958448': 1, '12014994': 1, '12090149': 1, '12292192': 2, '12522938': 3, '13186509': 2, '13194774': 2, '13401310': 1, '13935001': 11, '15199003': 1, '15252184': 1, '15818039': 1, '16158676': 1, '16177582': 1, '16255258': 1, '16280757': 1, '16298033': 2, '16780807': 1, '17064811': 2, '17802129': 5, '18111123': 1, '18617683': 2, '20097438': 1, '23134682': 2, '13693': 10, '62933': 1, '412696': 1, '443567': 1, '461586': 2, '647549': 3, '831378': 16, '905156': 1, '1063710': 1, '1071738': 1, '1100880': 4, '1118742': 1, '1171377': 1, '1313360': 2, '1404393': 1, '1521644': 2, '1537952': 1, '1596999': 1, '1615537': 1, '1662425': 3, '1791793': 1, '1810025': 1, '1967486': 1, '1989227': 2, '2092175': 7, '2135531': 4, '2135998': 3, '2287939': 1, '2458129': 2, '2497060': 1, '2730148': 1, '2890086': 3, '3213259': 1, '3291187': 1, '3440343': 1, '3477611': 1, '3856505': 3, '4006398': 1, '4020569': 1, '4103745': 1, '4130841': 1, '4134197': 2, '4311392': 2, '4328834': 3, '4412005': 2, '4469198': 1, '4650605': 6, '4827011': 1, '4849526': 1, '5212005': 1, '5352157': 1, '5372047': 7, '6155210': 1, '6424240': 1, '6457210': 1, '6746850': 1, '7059248': 1, '7152244': 18, '7241323': 1, '7307512': 1, '7889519': 15, '7894281': 1, '8223960': 1, '8376537': 1, '8379316': 2, '8957489': 1, '9000920': 3, '9507278': 4, '9608410': 1, '9608662': 1, '9686266': 1, '9788421': 1, '9854550': 98, '9981886': 2, '10266380': 1, '10341721': 5, '10349548': 2, '10434028': 3, '10619626': 1, '10686885': 4, '10911422': 6, '11558219': 1, '12592704': 2, '13696323': 1, '14021762': 1, '14503876': 3, '14924301': 1, '17850665': 1, '18225242': 1, '19257620': 3, '19750975': 1, '23342730': 1, '33188': 1, '55888': 5, '71845': 19, '484619': 1, '637624': 3, '720405': 1, '880123': 8, '1101191': 3, '1112162': 17, '1384497': 1, '1532488': 2, '1599115': 1, '1670133': 1, '1725066': 2, '1846433': 1, '1947152': 1, '1965040': 1, '1980369': 1, '1998019': 2, '2096745': 1, '2152057': 1, '2297029': 1, '2441141': 4, '2449574': 1, '2487491': 1, '2588784': 4, '2662623': 1, '2744227': 4, '2829427': 1, '2892347': 2, '3198068': 1, '3222435': 4, '3273671': 1, '3404865': 1, '3463951': 2, '3466021': 2, '3524069': 2, '3640438': 1, '3714666': 16, '3943554': 1, '3966571': 1, '4140143': 4, '4288023': 5, '4428641': 1, '4537509': 4, '4543625': 1, '4627602': 1, '4758413': 1, '5320332': 1, '5622002': 8, '5779954': 1, '6084371': 2, '6331507': 4, '6426091': 1, '6490204': 2, '6496101': 2, '6522201': 1, '6576174': 1, '6813438': 1, '7082241': 6, '7128985': 11, '7170706': 1, '7461018': 1, '7786142': 2, '8232122': 1, '8270232': 1, '8452614': 2, '8728829': 2, '9192447': 1, '9897789': 3, '10583139': 1, '11252080': 1, '11456389': 4, '11805705': 4, '12509489': 1, '12763476': 1, '12873922': 2, '13380929': 2, '13776181': 1, '13853480': 2, '14073149': 1, '14692232': 3, '14753288': 2, '17181168': 1, '17522011': 3, '18368269': 2, '18558825': 1, '18598967': 1, '18971008': 8, '20433495': 1, '21022823': 2, '21688209': 2, '21778306': 1, '21833172': 4, '23155479': 2}\n"
     ]
    }
   ],
   "source": [
    "import pandas as pd\n",
    "import re, string\n",
    "import time\n",
    "import json\n",
    "\n",
    "with open('ql.json') as json_file:\n",
    "    ql = json.load(json_file)\n",
    "\n",
    "print(ql['vietnam'])"
   ]
  },
  {
   "cell_type": "code",
   "execution_count": null,
   "id": "dbc03ceb",
   "metadata": {},
   "outputs": [],
   "source": []
  }
 ],
 "metadata": {
  "kernelspec": {
   "display_name": "Python 3 (ipykernel)",
   "language": "python",
   "name": "python3"
  },
  "language_info": {
   "codemirror_mode": {
    "name": "ipython",
    "version": 3
   },
   "file_extension": ".py",
   "mimetype": "text/x-python",
   "name": "python",
   "nbconvert_exporter": "python",
   "pygments_lexer": "ipython3",
   "version": "3.8.11"
  }
 },
 "nbformat": 4,
 "nbformat_minor": 5
}
