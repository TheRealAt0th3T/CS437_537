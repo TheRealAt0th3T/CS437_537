{
 "cells": [
  {
   "cell_type": "code",
   "execution_count": 32,
   "id": "ab4f6a88",
   "metadata": {},
   "outputs": [
    {
     "name": "stdout",
     "output_type": "stream",
     "text": [
      "Collecting nltk\n",
      "  Using cached nltk-3.6.5-py3-none-any.whl (1.5 MB)\n",
      "Requirement already satisfied: tqdm in /Users/amaratariq/miniconda3/lib/python3.9/site-packages (from nltk) (4.61.2)\n",
      "Collecting click\n",
      "  Using cached click-8.0.3-py3-none-any.whl (97 kB)\n",
      "Collecting joblib\n",
      "  Using cached joblib-1.1.0-py2.py3-none-any.whl (306 kB)\n",
      "Collecting regex>=2021.8.3\n",
      "  Downloading regex-2021.10.8-cp39-cp39-macosx_10_9_x86_64.whl (288 kB)\n",
      "\u001b[K     |████████████████████████████████| 288 kB 1.6 MB/s eta 0:00:01\n",
      "\u001b[?25hInstalling collected packages: regex, joblib, click, nltk\n",
      "Successfully installed click-8.0.3 joblib-1.1.0 nltk-3.6.5 regex-2021.10.8\n",
      "Note: you may need to restart the kernel to use updated packages.\n"
     ]
    }
   ],
   "source": [
    "#pip install nltk"
   ]
  },
  {
   "cell_type": "code",
   "execution_count": 49,
   "id": "34a3e69b",
   "metadata": {},
   "outputs": [],
   "source": [
    "import pandas as pd\n",
    "import re, string\n",
    "import time\n",
    "import json\n",
    "from nltk import tokenize\n",
    "import math"
   ]
  },
  {
   "cell_type": "markdown",
   "id": "6c64a2d7",
   "metadata": {},
   "source": [
    "Setting up wiki"
   ]
  },
  {
   "cell_type": "code",
   "execution_count": 19,
   "id": "f54edd41",
   "metadata": {},
   "outputs": [
    {
     "name": "stdout",
     "output_type": "stream",
     "text": [
      "                                                   content  \\\n",
      "0        morocco saudi arabia relations moroccan saudi ...   \n",
      "1        anthoni unit post office th anthoni unit post ...   \n",
      "2        dumraon vidhan sabha constitu dumraon vidhan s...   \n",
      "3        chaker khazaal chak khazaal born 28 septemb 19...   \n",
      "4        vicent pascual pastor vicent pascual pastor al...   \n",
      "...                                                    ...   \n",
      "1286259  toppr toppr product haygot educ privat limit f...   \n",
      "1286260  outlin education th outlin overview topic guid...   \n",
      "1286261  raell padamsee rael padamse indian theatr pers...   \n",
      "1286262  megan callaway megan callaway founder archer s...   \n",
      "1286263  dian reay dian reay sociologist professor educ...   \n",
      "\n",
      "                                     title       id  \n",
      "0           Morocco–Saudi Arabia relations        1  \n",
      "1        Anthony United States Post Office        2  \n",
      "2        Dumraon Vidhan Sabha constituency        3  \n",
      "3                           Chaker Khazaal        4  \n",
      "4                   Vicente Pascual Pastor        5  \n",
      "...                                    ...      ...  \n",
      "1286259                              Toppr  1286260  \n",
      "1286260               Outline of education  1286261  \n",
      "1286261                     Raell Padamsee  1286262  \n",
      "1286262                     Megan Callaway  1286263  \n",
      "1286263                         Diane Reay  1286264  \n",
      "\n",
      "[1286264 rows x 3 columns]\n"
     ]
    }
   ],
   "source": [
    "with open('Computed/wiki.json') as json_file:\n",
    "    wiki_dict = json.load(json_file)\n",
    "wiki = pd.read_csv('Computed/wiki.csv')[['content','title','id']]\n",
    "print(wiki)"
   ]
  },
  {
   "cell_type": "markdown",
   "id": "2a403bc4",
   "metadata": {},
   "source": [
    "Splitting Documents into sentences"
   ]
  },
  {
   "cell_type": "code",
   "execution_count": 22,
   "id": "4677a8b5",
   "metadata": {},
   "outputs": [],
   "source": [
    "def splitDoc(s):\n",
    "    sentence_spliter = re.split(r'(?<=[^A-Z].[.?]) +(?=[A-Z])', str (s))\n",
    "    return sentence_spliter\n",
    "\n",
    "df1 = wiki\n",
    "df1['content'] = wiki['content'].apply(splitDoc)"
   ]
  },
  {
   "cell_type": "code",
   "execution_count": 25,
   "id": "fcde0a13",
   "metadata": {},
   "outputs": [
    {
     "data": {
      "text/plain": [
       "['morocco saudi arabia relations moroccan saudi arabian relat refer current histor relat morocco saudi arabia morocco embassi riyadh saudi arabia embassi rabat both nation long tradit friendli relat base histor common morocco saudi arabia monarch rule respect famili alaouit saud adher sunni islam fear grow iranian shiit influenc relationship excel morocco saudi arabia step curb iranian influenc arab morocco moder approach iran saudi arabia cautiou hostil iran saudi arabia support morocco disput western sahara recogn legitimaci sahrawi arab democrat republ arab leagu saudi arabia help fund project region support moroccan author dure current yemeni civil war morocco particip anti houthi coalit led saudi arabia 6 plane 1 500 troop morocco neutral stanc conflict hope resolut benefit qatar saudi arabia particip morocco anti houthi campaign morocco offer mediat slow tension gulf arab']"
      ]
     },
     "execution_count": 25,
     "metadata": {},
     "output_type": "execute_result"
    }
   ],
   "source": [
    "df1['content'].iloc[0]"
   ]
  },
  {
   "cell_type": "code",
   "execution_count": 36,
   "id": "a970ce56",
   "metadata": {},
   "outputs": [
    {
     "data": {
      "text/plain": [
       "['morocco saudi arabia relations moroccan.',\n",
       " 'saudi arabian relat S. refer current histor.',\n",
       " 'relat morocco saudi arabia morocco embassi riyadh saudi arabia embassi rabat both nation long tradit friendli relat base histor common morocco saudi arabia monarch rule respect famili alaouit saud adher sunni islam fear grow iranian shiit influenc relationship excel morocco saudi arabia.',\n",
       " 'step curb 3.14 iranian influenc arab morocco moder approach iran saudi arabia cautiou hostil W. iran saudi arabia support morocco disput western sahara recogn legitimaci sahrawi arab democrat republ arab leagu saudi arabia help fund project region support moroccan author dure current yemeni civil war morocco particip anti houthi coalit led saudi arabia 6 plane 1 500 troop morocco neutral stanc conflict hope resolut benefit qatar saudi.',\n",
       " 'arabia particip morocco anti houthi campaign morocco offer mediat slow tension gulf arab.']"
      ]
     },
     "execution_count": 36,
     "metadata": {},
     "output_type": "execute_result"
    }
   ],
   "source": [
    "sample = 'morocco saudi arabia relations moroccan. saudi arabian relat S. refer current histor. relat morocco saudi arabia morocco embassi riyadh saudi arabia embassi rabat both nation long tradit friendli relat base histor common morocco saudi arabia monarch rule respect famili alaouit saud adher sunni islam fear grow iranian shiit influenc relationship excel morocco saudi arabia. step curb 3.14 iranian influenc arab morocco moder approach iran saudi arabia cautiou hostil W. iran saudi arabia support morocco disput western sahara recogn legitimaci sahrawi arab democrat republ arab leagu saudi arabia help fund project region support moroccan author dure current yemeni civil war morocco particip anti houthi coalit led saudi arabia 6 plane 1 500 troop morocco neutral stanc conflict hope resolut benefit qatar saudi. arabia particip morocco anti houthi campaign morocco offer mediat slow tension gulf arab.'\n",
    "tokenize.sent_tokenize(sample)"
   ]
  },
  {
   "cell_type": "markdown",
   "id": "04f791a2",
   "metadata": {},
   "source": [
    "NEW TFIDF FOR SENTENCES"
   ]
  },
  {
   "cell_type": "markdown",
   "id": "f6eb983c",
   "metadata": {},
   "source": [
    "TF"
   ]
  },
  {
   "cell_type": "code",
   "execution_count": 60,
   "id": "f324d10b",
   "metadata": {},
   "outputs": [
    {
     "name": "stdout",
     "output_type": "stream",
     "text": [
      "                                                   0  WordCounts  NumWords  \\\n",
      "0           morocco saudi arabia relations moroccan.           1         5   \n",
      "1       saudi arabian relat S. refer current histor.           0         7   \n",
      "2  relat morocco saudi arabia morocco embassi riy...           1        42   \n",
      "3  step curb 3.14 iranian influenc arab morocco m...           1        67   \n",
      "4  arabia particip morocco anti houthi campaign m...           1        13   \n",
      "\n",
      "         TF  \n",
      "0  0.200000  \n",
      "1  0.000000  \n",
      "2  0.023810  \n",
      "3  0.014925  \n",
      "4  0.076923  \n"
     ]
    }
   ],
   "source": [
    "def sentenceTF(word, sentences):\n",
    "    content = []\n",
    "    wordCounts = []\n",
    "    sentenceCount = []\n",
    "    wordCount = 0\n",
    "    sentence = tokenize.sent_tokenize(sentences)\n",
    "    for s in sentence:\n",
    "        wordCount = 0\n",
    "        if word in s.split(\" \"):\n",
    "            wordCount += 1\n",
    "        content.append(s)\n",
    "        wordCounts.append(wordCount)\n",
    "        sentenceCount.append(len(s.split(\" \")))\n",
    "    df2 = pd.DataFrame(content)\n",
    "    df2['WordCounts'] = wordCounts\n",
    "    df2['NumWords'] = sentenceCount\n",
    "    df2['TF'] = (df2['WordCounts']/df2['NumWords'])\n",
    "    return df2\n",
    "word = 'morocco'\n",
    "sample = 'morocco saudi arabia relations moroccan. saudi arabian relat S. refer current histor. relat morocco saudi arabia morocco embassi riyadh saudi arabia embassi rabat both nation long tradit friendli relat base histor common morocco saudi arabia monarch rule respect famili alaouit saud adher sunni islam fear grow iranian shiit influenc relationship excel morocco saudi arabia. step curb 3.14 iranian influenc arab morocco moder approach iran saudi arabia cautiou hostil W. iran saudi arabia support morocco disput western sahara recogn legitimaci sahrawi arab democrat republ arab leagu saudi arabia help fund project region support moroccan author dure current yemeni civil war morocco particip anti houthi coalit led saudi arabia 6 plane 1 500 troop morocco neutral stanc conflict hope resolut benefit qatar saudi. arabia particip morocco anti houthi campaign morocco offer mediat slow tension gulf arab.'\n",
    "\n",
    "df2 = sentenceTF(word, sample)\n",
    "print(df2)"
   ]
  },
  {
   "cell_type": "markdown",
   "id": "b5a2410b",
   "metadata": {},
   "source": [
    "sentence IDF"
   ]
  },
  {
   "cell_type": "code",
   "execution_count": 61,
   "id": "56c088ab",
   "metadata": {},
   "outputs": [
    {
     "name": "stdout",
     "output_type": "stream",
     "text": [
      "0.32192809488736235\n"
     ]
    }
   ],
   "source": [
    "nw = 0\n",
    "idf = 0\n",
    "def sentenceIDF(WordCount):\n",
    "    numSentences = len(df2)\n",
    "    global nw\n",
    "    global idf\n",
    "    if int(WordCount) > 0:\n",
    "        nw += 1\n",
    "    \n",
    "    idf = math.log2(numSentences/nw)\n",
    "    \n",
    "df2['WordCounts'].apply(sentenceIDF)\n",
    "print(idf)"
   ]
  },
  {
   "cell_type": "code",
   "execution_count": 62,
   "id": "87dbc132",
   "metadata": {},
   "outputs": [
    {
     "name": "stdout",
     "output_type": "stream",
     "text": [
      "0    0.064386\n",
      "1    0.000000\n",
      "2    0.007665\n",
      "3    0.004805\n",
      "4    0.024764\n",
      "Name: TF, dtype: float64\n"
     ]
    }
   ],
   "source": [
    "def getSentenceTFIDF(word):\n",
    "    return sentenceTF(word, sample)['TF'] * (idf)\n",
    "\n",
    "print (getSentenceTFIDF('morocco'))"
   ]
  },
  {
   "cell_type": "markdown",
   "id": "c35ae511",
   "metadata": {},
   "source": [
    "DENOMINATOR"
   ]
  },
  {
   "cell_type": "code",
   "execution_count": 66,
   "id": "58dd2655",
   "metadata": {},
   "outputs": [
    {
     "ename": "TypeError",
     "evalue": "cannot convert the series to <class 'float'>",
     "output_type": "error",
     "traceback": [
      "\u001b[0;31m---------------------------------------------------------------------------\u001b[0m",
      "\u001b[0;31mTypeError\u001b[0m                                 Traceback (most recent call last)",
      "\u001b[0;32m<ipython-input-66-d5acf96cdc23>\u001b[0m in \u001b[0;36m<module>\u001b[0;34m\u001b[0m\n\u001b[1;32m     11\u001b[0m \u001b[0;34m\u001b[0m\u001b[0m\n\u001b[1;32m     12\u001b[0m \u001b[0mquery\u001b[0m \u001b[0;34m=\u001b[0m \u001b[0;34m\"morroco saudi\"\u001b[0m\u001b[0;34m\u001b[0m\u001b[0;34m\u001b[0m\u001b[0m\n\u001b[0;32m---> 13\u001b[0;31m \u001b[0msecondHalf\u001b[0m\u001b[0;34m(\u001b[0m\u001b[0mquery\u001b[0m\u001b[0;34m)\u001b[0m\u001b[0;34m\u001b[0m\u001b[0;34m\u001b[0m\u001b[0m\n\u001b[0m",
      "\u001b[0;32m<ipython-input-66-d5acf96cdc23>\u001b[0m in \u001b[0;36msecondHalf\u001b[0;34m(query)\u001b[0m\n\u001b[1;32m      8\u001b[0m     \u001b[0;32mfor\u001b[0m \u001b[0mword\u001b[0m \u001b[0;32min\u001b[0m \u001b[0mquery\u001b[0m\u001b[0;34m.\u001b[0m\u001b[0msplit\u001b[0m\u001b[0;34m(\u001b[0m\u001b[0;34m\" \"\u001b[0m\u001b[0;34m)\u001b[0m\u001b[0;34m:\u001b[0m\u001b[0;34m\u001b[0m\u001b[0;34m\u001b[0m\u001b[0m\n\u001b[1;32m      9\u001b[0m         \u001b[0mtotalTFIDF\u001b[0m \u001b[0;34m+=\u001b[0m \u001b[0mgetSentenceTFIDF\u001b[0m\u001b[0;34m(\u001b[0m\u001b[0mword\u001b[0m\u001b[0;34m)\u001b[0m\u001b[0;34m**\u001b[0m\u001b[0;36m2\u001b[0m\u001b[0;34m\u001b[0m\u001b[0;34m\u001b[0m\u001b[0m\n\u001b[0;32m---> 10\u001b[0;31m     \u001b[0;32mreturn\u001b[0m \u001b[0;34m(\u001b[0m\u001b[0mmath\u001b[0m\u001b[0;34m.\u001b[0m\u001b[0msqrt\u001b[0m\u001b[0;34m(\u001b[0m\u001b[0mtotalTFIDF\u001b[0m\u001b[0;34m)\u001b[0m\u001b[0;34m)\u001b[0m\u001b[0;34m\u001b[0m\u001b[0;34m\u001b[0m\u001b[0m\n\u001b[0m\u001b[1;32m     11\u001b[0m \u001b[0;34m\u001b[0m\u001b[0m\n\u001b[1;32m     12\u001b[0m \u001b[0mquery\u001b[0m \u001b[0;34m=\u001b[0m \u001b[0;34m\"morroco saudi\"\u001b[0m\u001b[0;34m\u001b[0m\u001b[0;34m\u001b[0m\u001b[0m\n",
      "\u001b[0;32m~/miniconda3/lib/python3.9/site-packages/pandas/core/series.py\u001b[0m in \u001b[0;36mwrapper\u001b[0;34m(self)\u001b[0m\n\u001b[1;32m    183\u001b[0m         \u001b[0;32mif\u001b[0m \u001b[0mlen\u001b[0m\u001b[0;34m(\u001b[0m\u001b[0mself\u001b[0m\u001b[0;34m)\u001b[0m \u001b[0;34m==\u001b[0m \u001b[0;36m1\u001b[0m\u001b[0;34m:\u001b[0m\u001b[0;34m\u001b[0m\u001b[0;34m\u001b[0m\u001b[0m\n\u001b[1;32m    184\u001b[0m             \u001b[0;32mreturn\u001b[0m \u001b[0mconverter\u001b[0m\u001b[0;34m(\u001b[0m\u001b[0mself\u001b[0m\u001b[0;34m.\u001b[0m\u001b[0miloc\u001b[0m\u001b[0;34m[\u001b[0m\u001b[0;36m0\u001b[0m\u001b[0;34m]\u001b[0m\u001b[0;34m)\u001b[0m\u001b[0;34m\u001b[0m\u001b[0;34m\u001b[0m\u001b[0m\n\u001b[0;32m--> 185\u001b[0;31m         \u001b[0;32mraise\u001b[0m \u001b[0mTypeError\u001b[0m\u001b[0;34m(\u001b[0m\u001b[0;34mf\"cannot convert the series to {converter}\"\u001b[0m\u001b[0;34m)\u001b[0m\u001b[0;34m\u001b[0m\u001b[0;34m\u001b[0m\u001b[0m\n\u001b[0m\u001b[1;32m    186\u001b[0m \u001b[0;34m\u001b[0m\u001b[0m\n\u001b[1;32m    187\u001b[0m     \u001b[0mwrapper\u001b[0m\u001b[0;34m.\u001b[0m\u001b[0m__name__\u001b[0m \u001b[0;34m=\u001b[0m \u001b[0;34mf\"__{converter.__name__}__\"\u001b[0m\u001b[0;34m\u001b[0m\u001b[0;34m\u001b[0m\u001b[0m\n",
      "\u001b[0;31mTypeError\u001b[0m: cannot convert the series to <class 'float'>"
     ]
    }
   ],
   "source": [
    "def firstHalf(sentence):\n",
    "    firsthalf = math.sqrt(len(sentence)*1)\n",
    "    return (firsthalf)\n",
    "\n",
    "totalTFIDF = 0\n",
    "def secondHalf(query):\n",
    "    global totalTFIDF\n",
    "    for word in query.split(\" \"):\n",
    "        totalTFIDF += getSentenceTFIDF(word)**2\n",
    "    return (math.sqrt(totalTFIDF))\n",
    "\n",
    "query = \"morroco saudi\"\n",
    "secondHalf(query)"
   ]
  },
  {
   "cell_type": "markdown",
   "id": "bc499373",
   "metadata": {},
   "source": [
    "COSINE SIMULARITY"
   ]
  },
  {
   "cell_type": "code",
   "execution_count": null,
   "id": "8f78be11",
   "metadata": {},
   "outputs": [],
   "source": [
    "def cosineSimularity(word, docID):\n",
    "    for doc in df:\n",
    "        splitDoc();\n",
    "        for sectence in doc:\n",
    "            sentence "
   ]
  }
 ],
 "metadata": {
  "kernelspec": {
   "display_name": "Python 3",
   "language": "python",
   "name": "python3"
  },
  "language_info": {
   "codemirror_mode": {
    "name": "ipython",
    "version": 3
   },
   "file_extension": ".py",
   "mimetype": "text/x-python",
   "name": "python",
   "nbconvert_exporter": "python",
   "pygments_lexer": "ipython3",
   "version": "3.9.5"
  }
 },
 "nbformat": 4,
 "nbformat_minor": 5
}
